{
 "cells": [
  {
   "cell_type": "code",
   "execution_count": null,
   "metadata": {},
   "outputs": [],
   "source": [
    " \n",
    "def retention(df):    \n",
    "    # Convert 'first_join_date' and 'event_time' to datetime format and extract month\n",
    "    df['first_join_month'] = pd.to_datetime(df['first_join_date']).dt.to_period('M')\n",
    "    df['event_month'] = pd.to_datetime(df['event_time']).dt.to_period('M')\n",
    "\n",
    "    # Calculate the difference in months between the event month and the first join month\n",
    "    df['month_diff'] = (df['event_month'] - df['first_join_month']).apply(lambda x: x.n)\n",
    "\n",
    "    # Filter only 'BOOKING' events\n",
    "    booking_data = df[df['event_name'] == 'BOOKING']\n",
    "\n",
    "\n",
    "    # Group by first_join_month and month_diff, then count unique customers for each group\n",
    "    cohort_counts = booking_data.groupby(['first_join_month', 'month_diff']).agg(n_customers=('customer_id', 'nunique')).reset_index(drop=False)\n",
    "\n",
    "    # Pivot the data to create the retention matrix\n",
    "    retention_matrix = cohort_counts.pivot(index='first_join_month', columns='month_diff', values='n_customers')\n",
    "\n",
    "    # Calculate the retention rate by dividing each month's value by the cohort size (i.e., the number of customers in the first month)\n",
    "    cohort_sizes = retention_matrix.iloc[:, 0]\n",
    "    retention_rate = retention_matrix.divide(cohort_sizes, axis=0)\n",
    "\n",
    "    retention_rate = retention_rate.dropna(how='all', axis=0).dropna(how='all', axis=1)\n",
    "    \n",
    "    # Plot the heatmap\n",
    "    plt.figure(figsize=(60, 10))\n",
    "    sns.heatmap(retention_rate, annot=True, fmt=\".2\", cmap=\"YlGnBu\", vmin=0.0, vmax=1.0)\n",
    "\n",
    "    plt.title('2_Monthly Cohort Retention')\n",
    "    plt.xlabel('Months Since First Purchase')\n",
    "    plt.ylabel('First Purchase Month')\n",
    "    plt.show()\n",
    "\n",
    "\n",
    "    return retention_rate\n"
   ]
  }
 ],
 "metadata": {
  "language_info": {
   "name": "python"
  },
  "orig_nbformat": 4
 },
 "nbformat": 4,
 "nbformat_minor": 2
}
